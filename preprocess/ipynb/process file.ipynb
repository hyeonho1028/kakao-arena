{
 "cells": [
  {
   "cell_type": "code",
   "execution_count": 1,
   "metadata": {},
   "outputs": [],
   "source": [
    "from tqdm import tqdm_notebook\n",
    "from tqdm import tqdm, trange\n",
    "from collections import Counter\n",
    "from datetime import timedelta, datetime\n",
    "import glob\n",
    "from itertools import chain\n",
    "import json\n",
    "import os\n",
    "import re\n",
    "import matplotlib.pyplot as plt\n",
    "import numpy as np\n",
    "import pandas as pd\n",
    "from pandas.plotting import register_matplotlib_converters\n",
    "import seaborn as sns\n",
    "import matplotlib\n",
    "import matplotlib.pyplot as plt\n",
    "from collections import OrderedDict\n",
    "from itertools import repeat\n",
    "import time"
   ]
  },
  {
   "cell_type": "markdown",
   "metadata": {},
   "source": [
    "1. pop_writer_article.json \n",
    "2. all_test_history.json o \n",
    "3. 0222_0301_1000_recommend.txt o\n",
    "4. 18_read_raw.csv ---------------- o\n",
    "\n",
    "\n",
    "1. test.users\n",
    "2. recommend_art_51.txt\n",
    "3. recommend_57_test.txt"
   ]
  },
  {
   "cell_type": "code",
   "execution_count": 2,
   "metadata": {},
   "outputs": [],
   "source": [
    "path = '../data/'\n",
    "read = pd.read_csv(path + 'read.csv')\n",
    "from itertools import chain\n",
    "def chainer(s):\n",
    "    return list(chain.from_iterable(s.str.split(' ')))\n",
    "read_cnt_by_user = read['article_id'].str.split(' ').map(len)\n",
    "read_raw = pd.DataFrame({'dt': np.repeat(read['dt'], read_cnt_by_user),\n",
    "                         'hr': np.repeat(read['hr'], read_cnt_by_user),\n",
    "                         'user_id': np.repeat(read['user_id'], read_cnt_by_user),\n",
    "                         'article_id': chainer(read['article_id'])})\n",
    "read_raw = read_raw.reset_index(drop=True)\n",
    "# read_raw['article'] = read_raw['article_id'].apply(lambda x: str(x).split('_')[0])\n",
    "del read"
   ]
  },
  {
   "cell_type": "code",
   "execution_count": 3,
   "metadata": {},
   "outputs": [],
   "source": [
    "# test 정보\n",
    "test = pd.read_csv('../rawdata/predict/test.users',names=['id'])\n",
    "test_list = test['id'].values.tolist()"
   ]
  },
  {
   "cell_type": "code",
   "execution_count": 4,
   "metadata": {},
   "outputs": [
    {
     "name": "stderr",
     "output_type": "stream",
     "text": [
      "D:\\Anaconda3\\lib\\site-packages\\ipykernel_launcher.py:7: SettingWithCopyWarning: \n",
      "A value is trying to be set on a copy of a slice from a DataFrame.\n",
      "Try using .loc[row_indexer,col_indexer] = value instead\n",
      "\n",
      "See the caveats in the documentation: http://pandas.pydata.org/pandas-docs/stable/indexing.html#indexing-view-versus-copy\n",
      "  import sys\n"
     ]
    }
   ],
   "source": [
    "\"\"\"18_read_raw.csv 만들기\"\"\"\n",
    "\n",
    "df = read_raw.copy()\n",
    "\n",
    "past_df2 = df[df['dt']>=20190218]\n",
    "author = past_df2['article_id'].values.tolist()\n",
    "past_df2['author'] = [x.split('_')[0] for x in author]\n",
    "\n",
    "past_df2.to_csv('../data/18_read_raw.csv',index=False)"
   ]
  },
  {
   "cell_type": "code",
   "execution_count": null,
   "metadata": {},
   "outputs": [
    {
     "name": "stderr",
     "output_type": "stream",
     "text": [
      " 21%|████████████████▌                                                             | 1061/5000 [06:41<24:39,  2.66it/s]"
     ]
    }
   ],
   "source": [
    "\"\"\"all test history 만들기\"\"\"\n",
    "all_test_history={}\n",
    "\n",
    "dp_df = df.drop(['dt','hr'],axis=1).drop_duplicates()\n",
    "\n",
    "for i in tqdm(test_list):\n",
    "    all_test_history[i]=dp_df[dp_df.user_id.isin([i])].article_id.unique().tolist()\n",
    "    \n",
    "\"\"\"저장\"\"\"\n",
    "data1={}\n",
    "data1['all_test_history'] = all_test_history\n",
    "\n",
    "with open('../data/all_test_history.json', 'w', encoding=\"utf-8\") as make_file:\n",
    "    json.dump(data1, make_file, ensure_ascii=False, indent=\"\\t\")"
   ]
  },
  {
   "cell_type": "code",
   "execution_count": 153,
   "metadata": {},
   "outputs": [],
   "source": [
    "\"\"\"pop article 만들기\"\"\"\n",
    "\n",
    "\n",
    "import datetime\n",
    "\n",
    "metadata = pd.read_json('../rawdata/metadata.json',lines=True)\n",
    "new_metadata = metadata.copy()\n",
    "\n",
    "time=[]\n",
    "\n",
    "for i in metadata.reg_ts:\n",
    "    time.append(int(datetime.datetime.fromtimestamp(i/1000).strftime('%Y%m%d')))\n",
    "    \n",
    "new_metadata['time'] = time\n",
    "\n",
    "new_metadata = new_metadata[(new_metadata.time >= 20190301)&(new_metadata.time <= 20190314)]\n",
    "author2 = new_metadata.id.values.tolist()\n",
    "new_metadata['author'] = [x.split('_')[0] for x in author2]"
   ]
  },
  {
   "cell_type": "code",
   "execution_count": 5,
   "metadata": {
    "scrolled": true
   },
   "outputs": [
    {
     "name": "stderr",
     "output_type": "stream",
     "text": [
      "D:\\Anaconda3\\lib\\site-packages\\ipykernel_launcher.py:3: SettingWithCopyWarning: \n",
      "A value is trying to be set on a copy of a slice from a DataFrame.\n",
      "Try using .loc[row_indexer,col_indexer] = value instead\n",
      "\n",
      "See the caveats in the documentation: http://pandas.pydata.org/pandas-docs/stable/indexing.html#indexing-view-versus-copy\n",
      "  This is separate from the ipykernel package so we can avoid doing imports until\n"
     ]
    }
   ],
   "source": [
    "df_22 = df[df.dt>=20190222]\n",
    "author = df_22.article_id.values.tolist()\n",
    "df_22['author'] = [x.split('_')[0] for x in author]\n",
    "df_22 = df_22[['article_id','author']]"
   ]
  },
  {
   "cell_type": "code",
   "execution_count": 6,
   "metadata": {},
   "outputs": [
    {
     "ename": "NameError",
     "evalue": "name 'metadata' is not defined",
     "output_type": "error",
     "traceback": [
      "\u001b[1;31m---------------------------------------------------------------------------\u001b[0m",
      "\u001b[1;31mNameError\u001b[0m                                 Traceback (most recent call last)",
      "\u001b[1;32m<ipython-input-6-8c387cec9b66>\u001b[0m in \u001b[0;36m<module>\u001b[1;34m()\u001b[0m\n\u001b[0;32m      2\u001b[0m \u001b[1;33m\u001b[0m\u001b[0m\n\u001b[0;32m      3\u001b[0m \u001b[0misin\u001b[0m\u001b[1;33m=\u001b[0m\u001b[1;33m{\u001b[0m\u001b[1;33m}\u001b[0m\u001b[1;33m\u001b[0m\u001b[0m\n\u001b[1;32m----> 4\u001b[1;33m \u001b[1;32mfor\u001b[0m \u001b[0mi\u001b[0m \u001b[1;32min\u001b[0m \u001b[0mmetadata\u001b[0m\u001b[1;33m.\u001b[0m\u001b[0mid\u001b[0m\u001b[1;33m.\u001b[0m\u001b[0mvalues\u001b[0m\u001b[1;33m:\u001b[0m\u001b[1;33m\u001b[0m\u001b[0m\n\u001b[0m\u001b[0;32m      5\u001b[0m     \u001b[0misin\u001b[0m\u001b[1;33m[\u001b[0m\u001b[0mi\u001b[0m\u001b[1;33m]\u001b[0m \u001b[1;33m=\u001b[0m \u001b[1;36m1\u001b[0m\u001b[1;33m\u001b[0m\u001b[0m\n\u001b[0;32m      6\u001b[0m \u001b[1;33m\u001b[0m\u001b[0m\n",
      "\u001b[1;31mNameError\u001b[0m: name 'metadata' is not defined"
     ]
    }
   ],
   "source": [
    "pop_writer_article={}\n",
    "\n",
    "isin={}\n",
    "for i in metadata.id.values:\n",
    "    isin[i] = 1\n",
    "    \n",
    "for i in tqdm_notebook(df_22.author.unique()):\n",
    "    count=Counter(df_22[df_22.author.isin([i])].article_id).most_common()\n",
    "    pop_writer_article[i]=[x for x in count if x[0] in isin]"
   ]
  },
  {
   "cell_type": "code",
   "execution_count": 7,
   "metadata": {},
   "outputs": [],
   "source": [
    "delete=['#d6a2d0cfebc30014e9b0d9e82c21e6a9', '#b775dd5e306524d79dd0bb86f5b59597', '#026ba00d4f6cac8a4139429203792854', '#1309bc3e76f84cb82b33d93f8aacad96',\n",
    " '#ccf27ca1493c95d0e106b0b68ab9c7e8', '#e9b3bb3be1de0dcdf09be598cbdc9eba', '#5459ac2d70cf188ed7923383def0cefc', '#00700c454af49d5c9a36a13fcba01d0a',\n",
    " '#5569d6f44ccee9e112849a84b4c1112e', '#e59ec7aac131002599aaa57a93133453', '#d17aad82f76714b2c6c5938c1b795d28', '#8432c559c6adb805190812275b667177',\n",
    " '#13319c572752adddb2a6288bedfe1e62', '#c491f693c5c44220fcf85eb15d5c4110', '#c312c051de62857bdb28fcc981141c56', '#17891e1798aeb4a7a6c8e89db054192e',\n",
    " '#cb56c6b1805825f05bbd862cc5d93693', '#bd2bdfcf6d761273e6ed680c5428fd49', '#8994e49dba4a538b8527597268df8fc5', '#d05721e8e171e2b1d0a0660b763249d8',\n",
    " '#0575540a724efe88bbaf1b05e39a35e3', '#6afdaa1977750acce82773572d21c53d', '#59d0ed04b8aa7ee9c1b45f9a96022212', '#19d99322e893100d6830cfe3b93ac403',\n",
    " '#1d489713329b02507db6fdb9121b6864', '#e864c90f67705fb5b59ca4b0baec31e5', '#b79375f48c55ce2902e30352cc65a945', '#ea457870a2d32453609f52e50f84abdc',\n",
    " '#4043a59d3e22c68ad7eae38e593b7730', '#fa884ed07642aeaad911b1081876ba7b', '#a46c7024b3804ab1f4fd549e4d9448bb', '#402e1d254e744932688bdac511814a6b',\n",
    " '#ab8c84a03bed3e98731cf8a4e2218b23', '#b925ff0cdcca05d6802c440efa00c0d1', '#72699582d9013ba3389dfd2e520557e1', '#db8f8c504893d3513ccdbc93e46d6347',\n",
    " '#d55eb8f352a00a50d07d343f73b02a24', '#eea417f933b7266688ad631a8376149f', '#395b8837765e31ee4194e07d89e0c9c6', '#2e004caa3aecf4fc5d651cfaaf28d43c',\n",
    " '#6eb349ad62c019fa367d42949288d1dc', '#03f971237623f15812093fa868f3890d', '#0bd5d8012d1594dc0ef520ab70dbab96', '#b8f9863df77729ad82ecf089d28deaac',\n",
    " '#7e1190ae644e0e613250ec25096e4711', '#25fb3334a08a466c9eb493279f5ded1d', '#01d75a6a98719f0a7f111b7eacd51080', '#372b1435b88db8569c8074862f610151',\n",
    " '#e35c0f6ba0354c38f3471cbdf23bf3b9', '#f8e1dfcbedd9ed423d2c877cb30b0793', '#237958c1ca06f81d70d492525833ce7c', '#6575042680464e111fb5d911cd86bd28',\n",
    " '#da86886aae02dcae9bd44f8098a39832', '#2c316f1b18a85c76e3a5ebb79aadf296', '#0f7dfd859efbb79bd92b8d853a81250d', '#45dd173ec1a1f478f729590e02d7e8c6',\n",
    " '#0f8b4b27d904f970ffe4b7bf3e97d699', '#4841af244ff19f96fb3f6077b230526c', '#ba915261778727c191eb77848288a92a', '#fb947c08f37d20f01fa0617a02d2ee21',\n",
    " '#e2d7ad8dbb1f5ec0368f4ec5efdfae0d', '#c6929d4aca853d6b67b5104f1185eeca', '#46299aafa81870e19d00764047631c3f', '#b7e863c99ef486767999f11f7ccde513',\n",
    " '#e7053f7ff10b0d439592ca4a14ae75e2', '#16e48849be03333ead6fc6632c75ce52', '#81a9e9911e5ca57fbb1bf8293646736f', '#37031912c4a8126b6c7dde78e4f606c1',\n",
    " '#06ff288571e0b4e14a15c9e52dc48cdf', '#3c929226fd91cc088de315d3386abb1f', '#a8c4e60f2d8365ee7755ef27838c02c0', '#599fe1d0d696abb4c33e145f46b5616c',\n",
    " '#3b9412b86884b63807e2b92faf17b983', '#63fcd27f017d062ba3897d74a8a8f873', '#86c33e4dc465782c694e52362d7d3470', '#66635653185b678a241a5d393d5c9d49',\n",
    " '#aebac45e65ac7018ffe11f8c14c926b6', '#b8a2bfa4b6acba8123a705d61f053be9', '#388c19d65d194f07589aa79342d23d75', '#4a52d6e45528fd2bd2da60f7b4e45384',\n",
    " '#aacab0a09df0f45d435ac5a8ea6c1075', '#4684641f62d7c1746a1096b8c438514e', '#e8549f0b63591f5e7decf68105e1eb0f', '#f8f99d94518336c342d74bcdfb764496',\n",
    " '#85e853f5d3253653c886a89343b4618c', '#d0d9fad6be6f1f4c23746b57842c811a', '#7d8d5a97a6af137a28904ee5b8640b65', '#24479d076bad15d8dc02c4f6d10c156b',\n",
    " '#890f3ee19f4f054baac3d1f99049c90c', '#90857e0913d21a0a72a2d517831b50b1', '#8a1720441dc2ea8a489776fc45177de8', '#db0b012d743e033df05f61bee6b8709b',\n",
    " '#ba364c1064236b8028b6d271307662cf']"
   ]
  },
  {
   "cell_type": "code",
   "execution_count": 8,
   "metadata": {},
   "outputs": [],
   "source": [
    "a = [x for x in pop_writer_article if x not in delete]\n",
    "new_pop_writer_article ={}\n",
    "for i in a:\n",
    "    new_pop_writer_article[i] = pop_writer_article[i]"
   ]
  },
  {
   "cell_type": "code",
   "execution_count": 9,
   "metadata": {},
   "outputs": [
    {
     "name": "stderr",
     "output_type": "stream",
     "text": [
      "D:\\Anaconda3\\lib\\site-packages\\ipykernel_launcher.py:3: SettingWithCopyWarning: \n",
      "A value is trying to be set on a copy of a slice from a DataFrame.\n",
      "Try using .loc[row_indexer,col_indexer] = value instead\n",
      "\n",
      "See the caveats in the documentation: http://pandas.pydata.org/pandas-docs/stable/indexing.html#indexing-view-versus-copy\n",
      "  This is separate from the ipykernel package so we can avoid doing imports until\n"
     ]
    },
    {
     "ename": "NameError",
     "evalue": "name 'c' is not defined",
     "output_type": "error",
     "traceback": [
      "\u001b[1;31m---------------------------------------------------------------------------\u001b[0m",
      "\u001b[1;31mNameError\u001b[0m                                 Traceback (most recent call last)",
      "\u001b[1;32m<ipython-input-9-6cbeec9ef785>\u001b[0m in \u001b[0;36m<module>\u001b[1;34m()\u001b[0m\n\u001b[0;32m      3\u001b[0m \u001b[0mpast_df\u001b[0m\u001b[1;33m[\u001b[0m\u001b[1;34m'author'\u001b[0m\u001b[1;33m]\u001b[0m \u001b[1;33m=\u001b[0m \u001b[1;33m[\u001b[0m\u001b[0mx\u001b[0m\u001b[1;33m.\u001b[0m\u001b[0msplit\u001b[0m\u001b[1;33m(\u001b[0m\u001b[1;34m'_'\u001b[0m\u001b[1;33m)\u001b[0m\u001b[1;33m[\u001b[0m\u001b[1;36m0\u001b[0m\u001b[1;33m]\u001b[0m \u001b[1;32mfor\u001b[0m \u001b[0mx\u001b[0m \u001b[1;32min\u001b[0m \u001b[0mauthor3\u001b[0m\u001b[1;33m]\u001b[0m\u001b[1;33m\u001b[0m\u001b[0m\n\u001b[0;32m      4\u001b[0m \u001b[0mau\u001b[0m \u001b[1;33m=\u001b[0m \u001b[0mpast_df\u001b[0m\u001b[1;33m.\u001b[0m\u001b[0mauthor\u001b[0m\u001b[1;33m.\u001b[0m\u001b[0munique\u001b[0m\u001b[1;33m(\u001b[0m\u001b[1;33m)\u001b[0m\u001b[1;33m\u001b[0m\u001b[0m\n\u001b[1;32m----> 5\u001b[1;33m \u001b[0mau2\u001b[0m \u001b[1;33m=\u001b[0m \u001b[1;33m[\u001b[0m\u001b[0mx\u001b[0m \u001b[1;32mfor\u001b[0m \u001b[0mx\u001b[0m \u001b[1;32min\u001b[0m \u001b[0mau\u001b[0m \u001b[1;32mif\u001b[0m \u001b[0mx\u001b[0m \u001b[1;32min\u001b[0m \u001b[0mc\u001b[0m\u001b[1;33m]\u001b[0m\u001b[1;33m\u001b[0m\u001b[0m\n\u001b[0m\u001b[0;32m      6\u001b[0m \u001b[1;33m\u001b[0m\u001b[0m\n\u001b[0;32m      7\u001b[0m \u001b[0mnew_article\u001b[0m\u001b[1;33m=\u001b[0m\u001b[1;33m{\u001b[0m\u001b[1;33m}\u001b[0m\u001b[1;33m\u001b[0m\u001b[0m\n",
      "\u001b[1;32m<ipython-input-9-6cbeec9ef785>\u001b[0m in \u001b[0;36m<listcomp>\u001b[1;34m(.0)\u001b[0m\n\u001b[0;32m      3\u001b[0m \u001b[0mpast_df\u001b[0m\u001b[1;33m[\u001b[0m\u001b[1;34m'author'\u001b[0m\u001b[1;33m]\u001b[0m \u001b[1;33m=\u001b[0m \u001b[1;33m[\u001b[0m\u001b[0mx\u001b[0m\u001b[1;33m.\u001b[0m\u001b[0msplit\u001b[0m\u001b[1;33m(\u001b[0m\u001b[1;34m'_'\u001b[0m\u001b[1;33m)\u001b[0m\u001b[1;33m[\u001b[0m\u001b[1;36m0\u001b[0m\u001b[1;33m]\u001b[0m \u001b[1;32mfor\u001b[0m \u001b[0mx\u001b[0m \u001b[1;32min\u001b[0m \u001b[0mauthor3\u001b[0m\u001b[1;33m]\u001b[0m\u001b[1;33m\u001b[0m\u001b[0m\n\u001b[0;32m      4\u001b[0m \u001b[0mau\u001b[0m \u001b[1;33m=\u001b[0m \u001b[0mpast_df\u001b[0m\u001b[1;33m.\u001b[0m\u001b[0mauthor\u001b[0m\u001b[1;33m.\u001b[0m\u001b[0munique\u001b[0m\u001b[1;33m(\u001b[0m\u001b[1;33m)\u001b[0m\u001b[1;33m\u001b[0m\u001b[0m\n\u001b[1;32m----> 5\u001b[1;33m \u001b[0mau2\u001b[0m \u001b[1;33m=\u001b[0m \u001b[1;33m[\u001b[0m\u001b[0mx\u001b[0m \u001b[1;32mfor\u001b[0m \u001b[0mx\u001b[0m \u001b[1;32min\u001b[0m \u001b[0mau\u001b[0m \u001b[1;32mif\u001b[0m \u001b[0mx\u001b[0m \u001b[1;32min\u001b[0m \u001b[0mc\u001b[0m\u001b[1;33m]\u001b[0m\u001b[1;33m\u001b[0m\u001b[0m\n\u001b[0m\u001b[0;32m      6\u001b[0m \u001b[1;33m\u001b[0m\u001b[0m\n\u001b[0;32m      7\u001b[0m \u001b[0mnew_article\u001b[0m\u001b[1;33m=\u001b[0m\u001b[1;33m{\u001b[0m\u001b[1;33m}\u001b[0m\u001b[1;33m\u001b[0m\u001b[0m\n",
      "\u001b[1;31mNameError\u001b[0m: name 'c' is not defined"
     ]
    }
   ],
   "source": [
    "c=new_metadata.author.unique()\n",
    "past_df = df[df.dt>=20190222]\n",
    "author3 = past_df.article_id.values.tolist()\n",
    "past_df['author'] = [x.split('_')[0] for x in author3]\n",
    "au = past_df.author.unique()\n",
    "au2 = [x for x in au if x in c]\n",
    "\n",
    "new_article={}\n",
    "for i in new_metadata[new_metadata.author.isin(au2)].author:\n",
    "    new=new_metadata[new_metadata.author.isin([i])].id.values.tolist()\n",
    "    new_article[i] = [[x,1] for x in new]"
   ]
  },
  {
   "cell_type": "code",
   "execution_count": 10,
   "metadata": {},
   "outputs": [
    {
     "ename": "NameError",
     "evalue": "name 'new_article' is not defined",
     "output_type": "error",
     "traceback": [
      "\u001b[1;31m---------------------------------------------------------------------------\u001b[0m",
      "\u001b[1;31mNameError\u001b[0m                                 Traceback (most recent call last)",
      "\u001b[1;32m<ipython-input-10-c6c87ed1f741>\u001b[0m in \u001b[0;36m<module>\u001b[1;34m()\u001b[0m\n\u001b[0;32m      1\u001b[0m \u001b[0mdata1\u001b[0m\u001b[1;33m=\u001b[0m\u001b[1;33m{\u001b[0m\u001b[1;33m}\u001b[0m\u001b[1;33m\u001b[0m\u001b[0m\n\u001b[0;32m      2\u001b[0m \u001b[0mdata1\u001b[0m\u001b[1;33m[\u001b[0m\u001b[1;34m'pop_writer_article'\u001b[0m\u001b[1;33m]\u001b[0m \u001b[1;33m=\u001b[0m \u001b[0mnew_pop_writer_article\u001b[0m\u001b[1;33m\u001b[0m\u001b[0m\n\u001b[1;32m----> 3\u001b[1;33m \u001b[0mdata1\u001b[0m\u001b[1;33m[\u001b[0m\u001b[1;34m'new_article'\u001b[0m\u001b[1;33m]\u001b[0m \u001b[1;33m=\u001b[0m \u001b[0mnew_article\u001b[0m\u001b[1;33m\u001b[0m\u001b[0m\n\u001b[0m\u001b[0;32m      4\u001b[0m \u001b[1;33m\u001b[0m\u001b[0m\n\u001b[0;32m      5\u001b[0m \u001b[1;32mwith\u001b[0m \u001b[0mopen\u001b[0m\u001b[1;33m(\u001b[0m\u001b[1;34m'../data/pop_writer_article.json'\u001b[0m\u001b[1;33m,\u001b[0m \u001b[1;34m'w'\u001b[0m\u001b[1;33m,\u001b[0m \u001b[0mencoding\u001b[0m\u001b[1;33m=\u001b[0m\u001b[1;34m\"utf-8\"\u001b[0m\u001b[1;33m)\u001b[0m \u001b[1;32mas\u001b[0m \u001b[0mmake_file\u001b[0m\u001b[1;33m:\u001b[0m\u001b[1;33m\u001b[0m\u001b[0m\n",
      "\u001b[1;31mNameError\u001b[0m: name 'new_article' is not defined"
     ]
    }
   ],
   "source": [
    "data1={}\n",
    "data1['pop_writer_article'] = new_pop_writer_article\n",
    "data1['new_article'] = new_article\n",
    "\n",
    "with open('../data/pop_writer_article.json', 'w', encoding=\"utf-8\") as make_file:\n",
    "    json.dump(data1, make_file, ensure_ascii=False, indent=\"\\t\")"
   ]
  },
  {
   "cell_type": "code",
   "execution_count": null,
   "metadata": {},
   "outputs": [],
   "source": []
  },
  {
   "cell_type": "code",
   "execution_count": null,
   "metadata": {},
   "outputs": [],
   "source": []
  }
 ],
 "metadata": {
  "kernelspec": {
   "display_name": "Python 3",
   "language": "python",
   "name": "python3"
  },
  "language_info": {
   "codemirror_mode": {
    "name": "ipython",
    "version": 3
   },
   "file_extension": ".py",
   "mimetype": "text/x-python",
   "name": "python",
   "nbconvert_exporter": "python",
   "pygments_lexer": "ipython3",
   "version": "3.7.0"
  }
 },
 "nbformat": 4,
 "nbformat_minor": 2
}
