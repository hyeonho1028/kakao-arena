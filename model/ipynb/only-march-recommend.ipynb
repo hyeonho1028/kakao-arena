{
 "cells": [
  {
   "cell_type": "code",
   "execution_count": 1,
   "metadata": {
    "_cell_guid": "b1076dfc-b9ad-4769-8c92-a6c4dae69d19",
    "_uuid": "8f2839f25d086af736a60e9eeb907d3b93b6e0e5"
   },
   "outputs": [],
   "source": [
    "import random\n",
    "import time\n",
    "from collections import Counter\n",
    "from datetime import timedelta, datetime\n",
    "import glob\n",
    "from itertools import chain\n",
    "import json\n",
    "import datetime\n",
    "import os\n",
    "import re\n",
    "import matplotlib.pyplot as plt\n",
    "import numpy as np\n",
    "import pandas as pd\n",
    "import seaborn as sns\n",
    "import matplotlib\n",
    "import matplotlib.pyplot as plt\n",
    "import matplotlib.font_manager as fm\n",
    "from tqdm import tqdm_notebook\n"
   ]
  },
  {
   "cell_type": "markdown",
   "metadata": {
    "_cell_guid": "79c7e3d0-c299-4dcb-8224-4455121ee9b0",
    "_uuid": "d629ff2d2480ee46fbb7e2d37f6b5fab8052498a",
    "collapsed": true
   },
   "source": [
    "# data load"
   ]
  },
  {
   "cell_type": "code",
   "execution_count": null,
   "metadata": {},
   "outputs": [],
   "source": [
    "path = '../data/'\n",
    "\n",
    "read = pd.read_csv(path + 'read.csv')\n",
    "from itertools import chain\n",
    "def chainer(s):\n",
    "    return list(chain.from_iterable(s.str.split(' ')))\n",
    "read_cnt_by_user = read['article_id'].str.split(' ').map(len)\n",
    "read_raw = pd.DataFrame({'dt': np.repeat(read['dt'], read_cnt_by_user),\n",
    "                         'hr': np.repeat(read['hr'], read_cnt_by_user),\n",
    "                         'user_id': np.repeat(read['user_id'], read_cnt_by_user),\n",
    "                         'article_id': chainer(read['article_id'])})\n",
    "read_raw = read_raw.reset_index(drop=True)\n",
    "read_raw['article'] = read_raw['article_id'].apply(lambda x: str(x).split('_')[0])\n",
    "del read\n",
    "\n",
    "user = pd.read_csv(path + 'users.csv')\n",
    "dev = pd.read_csv(path + 'dev.csv')\n",
    "test = pd.read_csv(path + 'test.csv')\n",
    "metadata = pd.read_json('../rawdata/metadata.json', lines=True)\n",
    "magazine = pd.read_json('../rawdata/magazine.json', lines=True)\n",
    "metadata = pd.merge(metadata, magazine.rename(columns={'id':'magazine_id'}), how='left', on='magazine_id')\n",
    "metadata['reg_ts'] = metadata['reg_ts'].apply(lambda x: int(datetime.datetime.fromtimestamp(x/1000).strftime('%Y%m%d')))"
   ]
  },
  {
   "cell_type": "markdown",
   "metadata": {},
   "source": [
    "# basic preprocess"
   ]
  },
  {
   "cell_type": "code",
   "execution_count": null,
   "metadata": {},
   "outputs": [],
   "source": [
    "# metadata에 존재하는 작품만\n",
    "read_raw = read_raw[read_raw['article_id'].isin(metadata['id'].unique())].reset_index(drop=True)\n",
    "\n",
    "# 2월 18일 이후의 read data만\n",
    "read_raw2 = read_raw[read_raw['dt']>=20190224].reset_index(drop=True)\n",
    "\n",
    "# read data 중 5개 이상 글을 소비한 유저만\n",
    "# read_raw2 = read_raw2[read_raw2['user_id'].isin(read_raw2.groupby('user_id')['dt'].count()[read_raw2.groupby('user_id')['dt'].count() > 4].index)].reset_index(drop=True)\n",
    "\n",
    "# popular agg data\n",
    "# read_raw4 = read_raw2[~((read_raw2['article'].isin(read_raw2['article'].value_counts().head(5).index)) & (read_raw2['dt']<=20190220))].reset_index(drop=True)\n",
    "\n",
    "# # read data 중 unique\n",
    "# read_raw3 = read_raw[['user_id', 'article_id']].drop_duplicates()\n",
    "\n",
    "# # metadata 18일 이후와 3월 15일 이전으로\n",
    "metadata['article'] = metadata['user_id'].astype(str) +'_'+metadata['magazine_tag_list'].astype(str)\n",
    "metadata2 = metadata[(metadata['reg_ts']>=20190301) & (metadata['reg_ts']<20190315)].reset_index(drop=True)\n",
    "\n",
    "# # dev data에 following data 추가\n",
    "# dev2 = pd.merge(dev, user[['following_list', 'id']], how='left', on='id')\n",
    "\n",
    "user2 = user[user['id'].isin(test['id'])].reset_index(drop=True)"
   ]
  },
  {
   "cell_type": "code",
   "execution_count": null,
   "metadata": {},
   "outputs": [],
   "source": [
    "read_raw3 = pd.merge(read_raw2.drop('article', axis=1), metadata[['id', 'article']].rename(columns={'id':'article_id'}), how='left', on='article_id')\n",
    "read_raw3 = read_raw3.drop_duplicates().reset_index(drop=True)\n",
    "popular_list = read_raw3['article'].value_counts()[2:].index"
   ]
  },
  {
   "cell_type": "code",
   "execution_count": null,
   "metadata": {},
   "outputs": [],
   "source": [
    "test['recommend']=''\n",
    "for idx in tqdm_notebook(range(len(test))):\n",
    "    user_id = pd.Series(test.loc[idx, 'id'])\n",
    "    \n",
    "    follow = user2.loc[user2['id'].isin(user_id), 'following_list']\n",
    "    history = read_raw3[read_raw3['user_id'].isin(user_id)]\n",
    "    \n",
    "    recommend = ['@brunch_153']\n",
    "    \n",
    "    # history\n",
    "    history_based_recommend = metadata2[metadata2['article'].isin(history['article'].value_counts().index[history['article'].value_counts()>1])].sort_values('reg_ts')['id'].tolist()\n",
    "    history_based_recommend = pd.Series(history_based_recommend)[~pd.Series(history_based_recommend).isin(recommend)].tolist()\n",
    "    recommend.extend(history_based_recommend)\n",
    "    \n",
    "    # follow\n",
    "    if len(follow)>0:\n",
    "        follow_based_recommend = metadata.loc[metadata['user_id'].isin(eval(follow.values[0])), 'article']\n",
    "        recommend_article = popular_list[popular_list.isin(follow_based_recommend)]\n",
    "        follow_based_recommend = metadata2[metadata2['article'].isin(recommend_article)].sort_values('reg_ts')['id']\n",
    "        follow_based_recommend = follow_based_recommend[~follow_based_recommend.isin(recommend)].tolist()\n",
    "        recommend.extend(follow_based_recommend)\n",
    "    \n",
    "    test.loc[idx, 'recommend'] = recommend"
   ]
  },
  {
   "cell_type": "code",
   "execution_count": null,
   "metadata": {},
   "outputs": [],
   "source": [
    "test['submit'] = test['id'] + ' ' + test['recommend'].apply(lambda x: ' '.join(x))\n",
    "test['submit'].to_csv('../data/inferencefile/recommend.csv', index=False)"
   ]
  },
  {
   "cell_type": "code",
   "execution_count": null,
   "metadata": {},
   "outputs": [],
   "source": [
    "print('100개가 완벽히 추천된 아이템 개수 : {} \\n추천된 item의 unique개수 : {} - entropy와 밀접한 관련'.format(\n",
    "    sum(test['submit'].apply(lambda x: len(x.split(' ')))==101), len(np.unique([j for i in test['recommend'] for j in i]))))"
   ]
  },
  {
   "cell_type": "code",
   "execution_count": 8,
   "metadata": {},
   "outputs": [],
   "source": [
    "# version10을 보면 추천 이상하게 한거 있음\n",
    "# version4를 보면 옛날 코드가 있습니다."
   ]
  }
 ],
 "metadata": {
  "kernelspec": {
   "display_name": "Python 3",
   "language": "python",
   "name": "python3"
  },
  "language_info": {
   "codemirror_mode": {
    "name": "ipython",
    "version": 3
   },
   "file_extension": ".py",
   "mimetype": "text/x-python",
   "name": "python",
   "nbconvert_exporter": "python",
   "pygments_lexer": "ipython3",
   "version": "3.7.0"
  },
  "widgets": {
   "application/vnd.jupyter.widget-state+json": {
    "state": {
     "2d96d7846d884393b58bb526a91665ad": {
      "model_module": "@jupyter-widgets/controls",
      "model_module_version": "1.4.0",
      "model_name": "DescriptionStyleModel",
      "state": {
       "_model_module": "@jupyter-widgets/controls",
       "_model_module_version": "1.4.0",
       "_model_name": "DescriptionStyleModel",
       "_view_count": null,
       "_view_module": "@jupyter-widgets/base",
       "_view_module_version": "1.1.0",
       "_view_name": "StyleView",
       "description_width": ""
      }
     },
     "390acc13955948d7be84532fe1a0bfbf": {
      "model_module": "@jupyter-widgets/base",
      "model_module_version": "1.1.0",
      "model_name": "LayoutModel",
      "state": {
       "_model_module": "@jupyter-widgets/base",
       "_model_module_version": "1.1.0",
       "_model_name": "LayoutModel",
       "_view_count": null,
       "_view_module": "@jupyter-widgets/base",
       "_view_module_version": "1.1.0",
       "_view_name": "LayoutView",
       "align_content": null,
       "align_items": null,
       "align_self": null,
       "border": null,
       "bottom": null,
       "display": null,
       "flex": null,
       "flex_flow": null,
       "grid_area": null,
       "grid_auto_columns": null,
       "grid_auto_flow": null,
       "grid_auto_rows": null,
       "grid_column": null,
       "grid_gap": null,
       "grid_row": null,
       "grid_template_areas": null,
       "grid_template_columns": null,
       "grid_template_rows": null,
       "height": null,
       "justify_content": null,
       "left": null,
       "margin": null,
       "max_height": null,
       "max_width": null,
       "min_height": null,
       "min_width": null,
       "order": null,
       "overflow": null,
       "overflow_x": null,
       "overflow_y": null,
       "padding": null,
       "right": null,
       "top": null,
       "visibility": null,
       "width": null
      }
     },
     "4aef5db880ab4403b58a035b71715d68": {
      "model_module": "@jupyter-widgets/controls",
      "model_module_version": "1.4.0",
      "model_name": "IntProgressModel",
      "state": {
       "_dom_classes": [],
       "_model_module": "@jupyter-widgets/controls",
       "_model_module_version": "1.4.0",
       "_model_name": "IntProgressModel",
       "_view_count": null,
       "_view_module": "@jupyter-widgets/controls",
       "_view_module_version": "1.4.0",
       "_view_name": "ProgressView",
       "bar_style": "",
       "description": "",
       "description_tooltip": null,
       "layout": "IPY_MODEL_390acc13955948d7be84532fe1a0bfbf",
       "max": 5000,
       "min": 0,
       "orientation": "horizontal",
       "style": "IPY_MODEL_7e77010058244e9e93c944ee7304faad",
       "value": 3717
      }
     },
     "531603d8904c42fa9b3035b1d9f7f575": {
      "model_module": "@jupyter-widgets/base",
      "model_module_version": "1.1.0",
      "model_name": "LayoutModel",
      "state": {
       "_model_module": "@jupyter-widgets/base",
       "_model_module_version": "1.1.0",
       "_model_name": "LayoutModel",
       "_view_count": null,
       "_view_module": "@jupyter-widgets/base",
       "_view_module_version": "1.1.0",
       "_view_name": "LayoutView",
       "align_content": null,
       "align_items": null,
       "align_self": null,
       "border": null,
       "bottom": null,
       "display": null,
       "flex": null,
       "flex_flow": null,
       "grid_area": null,
       "grid_auto_columns": null,
       "grid_auto_flow": null,
       "grid_auto_rows": null,
       "grid_column": null,
       "grid_gap": null,
       "grid_row": null,
       "grid_template_areas": null,
       "grid_template_columns": null,
       "grid_template_rows": null,
       "height": null,
       "justify_content": null,
       "left": null,
       "margin": null,
       "max_height": null,
       "max_width": null,
       "min_height": null,
       "min_width": null,
       "order": null,
       "overflow": null,
       "overflow_x": null,
       "overflow_y": null,
       "padding": null,
       "right": null,
       "top": null,
       "visibility": null,
       "width": null
      }
     },
     "7e77010058244e9e93c944ee7304faad": {
      "model_module": "@jupyter-widgets/controls",
      "model_module_version": "1.4.0",
      "model_name": "ProgressStyleModel",
      "state": {
       "_model_module": "@jupyter-widgets/controls",
       "_model_module_version": "1.4.0",
       "_model_name": "ProgressStyleModel",
       "_view_count": null,
       "_view_module": "@jupyter-widgets/base",
       "_view_module_version": "1.1.0",
       "_view_name": "StyleView",
       "bar_color": null,
       "description_width": ""
      }
     },
     "a94de219c18e4a33890ed0fb4e56d3ca": {
      "model_module": "@jupyter-widgets/base",
      "model_module_version": "1.1.0",
      "model_name": "LayoutModel",
      "state": {
       "_model_module": "@jupyter-widgets/base",
       "_model_module_version": "1.1.0",
       "_model_name": "LayoutModel",
       "_view_count": null,
       "_view_module": "@jupyter-widgets/base",
       "_view_module_version": "1.1.0",
       "_view_name": "LayoutView",
       "align_content": null,
       "align_items": null,
       "align_self": null,
       "border": null,
       "bottom": null,
       "display": null,
       "flex": null,
       "flex_flow": null,
       "grid_area": null,
       "grid_auto_columns": null,
       "grid_auto_flow": null,
       "grid_auto_rows": null,
       "grid_column": null,
       "grid_gap": null,
       "grid_row": null,
       "grid_template_areas": null,
       "grid_template_columns": null,
       "grid_template_rows": null,
       "height": null,
       "justify_content": null,
       "left": null,
       "margin": null,
       "max_height": null,
       "max_width": null,
       "min_height": null,
       "min_width": null,
       "order": null,
       "overflow": null,
       "overflow_x": null,
       "overflow_y": null,
       "padding": null,
       "right": null,
       "top": null,
       "visibility": null,
       "width": null
      }
     },
     "ccd0eb37ca354bb1a3b61c54018db7e8": {
      "model_module": "@jupyter-widgets/controls",
      "model_module_version": "1.4.0",
      "model_name": "HBoxModel",
      "state": {
       "_dom_classes": [],
       "_model_module": "@jupyter-widgets/controls",
       "_model_module_version": "1.4.0",
       "_model_name": "HBoxModel",
       "_view_count": null,
       "_view_module": "@jupyter-widgets/controls",
       "_view_module_version": "1.4.0",
       "_view_name": "HBoxView",
       "box_style": "",
       "children": [
        "IPY_MODEL_4aef5db880ab4403b58a035b71715d68",
        "IPY_MODEL_cd3afadafe164555b07428b761bc5538"
       ],
       "layout": "IPY_MODEL_a94de219c18e4a33890ed0fb4e56d3ca"
      }
     },
     "cd3afadafe164555b07428b761bc5538": {
      "model_module": "@jupyter-widgets/controls",
      "model_module_version": "1.4.0",
      "model_name": "HTMLModel",
      "state": {
       "_dom_classes": [],
       "_model_module": "@jupyter-widgets/controls",
       "_model_module_version": "1.4.0",
       "_model_name": "HTMLModel",
       "_view_count": null,
       "_view_module": "@jupyter-widgets/controls",
       "_view_module_version": "1.4.0",
       "_view_name": "HTMLView",
       "description": "",
       "description_tooltip": null,
       "layout": "IPY_MODEL_531603d8904c42fa9b3035b1d9f7f575",
       "placeholder": "​",
       "style": "IPY_MODEL_2d96d7846d884393b58bb526a91665ad",
       "value": " 74% 3716/5000 [07:45&lt;02:41,  7.95it/s]"
      }
     }
    },
    "version_major": 2,
    "version_minor": 0
   }
  }
 },
 "nbformat": 4,
 "nbformat_minor": 1
}
