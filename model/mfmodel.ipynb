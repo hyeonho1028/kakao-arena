{
 "cells": [
  {
   "cell_type": "code",
   "execution_count": 1,
   "metadata": {
    "_cell_guid": "b1076dfc-b9ad-4769-8c92-a6c4dae69d19",
    "_uuid": "8f2839f25d086af736a60e9eeb907d3b93b6e0e5"
   },
   "outputs": [],
   "source": [
    "from collections import Counter\n",
    "from datetime import timedelta, datetime\n",
    "import glob\n",
    "from itertools import chain\n",
    "import json\n",
    "import os\n",
    "import re\n",
    "import matplotlib.pyplot as plt\n",
    "import numpy as np\n",
    "import pandas as pd\n",
    "from pandas.plotting import register_matplotlib_converters\n",
    "import seaborn as sns\n",
    "import matplotlib\n",
    "import matplotlib.pyplot as plt\n",
    "import matplotlib.font_manager as fm\n",
    "from tqdm import tqdm_notebook"
   ]
  },
  {
   "cell_type": "markdown",
   "metadata": {},
   "source": [
    "# data read"
   ]
  },
  {
   "cell_type": "code",
   "execution_count": 2,
   "metadata": {
    "_cell_guid": "79c7e3d0-c299-4dcb-8224-4455121ee9b0",
    "_uuid": "d629ff2d2480ee46fbb7e2d37f6b5fab8052498a"
   },
   "outputs": [],
   "source": [
    "path = 'data/'\n",
    "read = pd.read_csv(path+'read.csv')\n",
    "users = pd.read_csv(path+'users.csv')\n",
    "dev = pd.read_csv(path+'dev.csv')\n",
    "test = pd.read_csv(path+'test.csv')"
   ]
  },
  {
   "cell_type": "markdown",
   "metadata": {},
   "source": [
    "# data cleaning"
   ]
  },
  {
   "cell_type": "code",
   "execution_count": 3,
   "metadata": {},
   "outputs": [],
   "source": [
    "from itertools import chain\n",
    "def chainer(s):\n",
    "    return list(chain.from_iterable(s.str.split(' ')))\n",
    "read_cnt_by_user = read['article_id'].str.split(' ').map(len)\n",
    "read_raw = pd.DataFrame({'dt': np.repeat(read['dt'], read_cnt_by_user),\n",
    "                         'hr': np.repeat(read['hr'], read_cnt_by_user),\n",
    "                         'user_id': np.repeat(read['user_id'], read_cnt_by_user),\n",
    "                         'article_id': chainer(read['article_id'])})\n",
    "read_raw = read_raw.reset_index(drop=True)\n",
    "read_raw['article'] = read_raw['article_id'].apply(lambda x: str(x).split('_')[0])\n",
    "del read"
   ]
  },
  {
   "cell_type": "code",
   "execution_count": 4,
   "metadata": {},
   "outputs": [],
   "source": [
    "read_raw2 = read_raw.loc[read_raw['dt']>=20190222, ['user_id', 'article_id', 'article']].reset_index(drop=True)"
   ]
  },
  {
   "cell_type": "markdown",
   "metadata": {},
   "source": [
    "# recommend"
   ]
  },
  {
   "cell_type": "code",
   "execution_count": 5,
   "metadata": {},
   "outputs": [],
   "source": [
    "from sklearn.model_selection import KFold\n",
    "\n",
    "from sklearn.decomposition import NMF\n",
    "import scipy"
   ]
  },
  {
   "cell_type": "code",
   "execution_count": 6,
   "metadata": {},
   "outputs": [],
   "source": [
    "read_raw2 = read_raw2.groupby(['user_id', 'article_id']).count().reset_index()\n",
    "read_raw2['article'] = read_raw2['article_id'].apply(lambda x: str(x).split('_')[0])\n",
    "\n",
    "users = users[users['following_list'].apply(lambda x: True if len(x)>2 else False)].reset_index(drop=True)\n",
    "users = users[users['id'].isin(read_raw2['user_id'].unique())].reset_index(drop=True)\n",
    "\n",
    "dev = pd.merge(dev, users[['following_list', 'id']], how='left', on='id')"
   ]
  },
  {
   "cell_type": "code",
   "execution_count": 7,
   "metadata": {},
   "outputs": [],
   "source": [
    "metadata = pd.read_json('../input/kakao-arena-2nd-competition/metadata.json', lines=True)"
   ]
  },
  {
   "cell_type": "code",
   "execution_count": 8,
   "metadata": {},
   "outputs": [],
   "source": [
    "read_raw2 = read_raw2[read_raw2['article_id'].isin(metadata['id'])].reset_index(drop=True)"
   ]
  },
  {
   "cell_type": "code",
   "execution_count": 9,
   "metadata": {},
   "outputs": [],
   "source": [
    "popular_list = read_raw2['article_id'].value_counts().index"
   ]
  },
  {
   "cell_type": "code",
   "execution_count": 10,
   "metadata": {},
   "outputs": [],
   "source": [
    "users['following_list'] = users['following_list'].apply(lambda x: x.replace('[', '').replace(']', '').replace(\"'\", '').split(', '))"
   ]
  },
  {
   "cell_type": "code",
   "execution_count": 11,
   "metadata": {},
   "outputs": [],
   "source": [
    "def recommend(train, user_id, raw_data):\n",
    "\n",
    "    user2idx = {user: i for i, user in enumerate(train['user_id'].unique())}\n",
    "    idx2user = {i: user for user, i in user2idx.items()}\n",
    "\n",
    "    article2idx = {game: i for i, game in enumerate(train['article_id'].unique())}\n",
    "    idx2article = {i: game for game, i in article2idx.items()}\n",
    "\n",
    "    user_idx = train['user_id'].apply(lambda x: user2idx[x]).values\n",
    "    article_idx = train['article_id2'] = train['article_id'].apply(lambda x: article2idx[x]).values\n",
    "    value = np.ones(len(train))\n",
    "\n",
    "    n_users = len(train['user_id'].unique())\n",
    "    n_articles = len(train['article_id'].unique())\n",
    "\n",
    "    # sparse matrix\n",
    "    purchases_sparse = scipy.sparse.csr_matrix((value, (user_idx, article_idx)), shape=(n_users, n_articles))\n",
    "\n",
    "    model = NMF(n_components=20, init='random', l1_ratio=0.1, alpha=0.1, shuffle=True)\n",
    "    W = model.fit_transform(purchases_sparse)\n",
    "    H = model.components_\n",
    "\n",
    "    recommend_score = W[user2idx[user_id]].dot(H)\n",
    "    \n",
    "    view_history = raw_data.loc[raw_data['user_id'].isin([user_id]), 'article_id'].unique()\n",
    "\n",
    "    \n",
    "    recommend_df = pd.DataFrame(np.concatenate([train['article_id'].unique().reshape(-1, 1), recommend_score.reshape(-1, 1)], 1))\n",
    "\n",
    "    top_100_list = recommend_df[~recommend_df[0].isin(view_history)].sort_values(1, ascending=False).iloc[:100, 0].values\n",
    "\n",
    "    return top_100_list"
   ]
  },
  {
   "cell_type": "code",
   "execution_count": 12,
   "metadata": {},
   "outputs": [
    {
     "data": {
      "application/vnd.jupyter.widget-view+json": {
       "model_id": "e926a079db524f28a6cab1694a29bc59",
       "version_major": 2,
       "version_minor": 0
      },
      "text/plain": [
       "HBox(children=(IntProgress(value=0, max=3000), HTML(value='')))"
      ]
     },
     "metadata": {},
     "output_type": "display_data"
    },
    {
     "name": "stdout",
     "output_type": "stream",
     "text": [
      "\n"
     ]
    }
   ],
   "source": [
    "dev['recommend'] = ''\n",
    "\n",
    "for idx in tqdm_notebook(range(len(dev))):\n",
    "    \n",
    "    user_id = dev.loc[idx, 'id']\n",
    "    try:\n",
    "        follow = users.loc[users['id'].isin([user_id]), 'following_list'].values[0]\n",
    "\n",
    "        # based on popular\n",
    "        similar_read_raw = read_raw2[read_raw2['article'].isin(follow)].reset_index(drop=True)\n",
    "\n",
    "        top_100 = recommend(similar_read_raw, user_id, read_raw)\n",
    "    except:\n",
    "        \n",
    "        view_history = read_raw.loc[read_raw['user_id'].isin([user_id]), 'article_id'].unique()\n",
    "        \n",
    "        top_100 = popular_list[~popular_list.isin(view_history)][:100]\n",
    "\n",
    "    if len(top_100) != 100:\n",
    "        view_history = read_raw.loc[read_raw['user_id'].isin([user_id]), 'article_id'].unique()\n",
    "        top_add = popular_list[(~popular_list.isin(view_history)) & (~popular_list.isin(top_100))][:100-len(top_100)]\n",
    "        top_100 = np.append(top_100, top_add)\n",
    "        \n",
    "    dev.loc[idx, 'recommend'] = ' '.join(top_100)"
   ]
  },
  {
   "cell_type": "code",
   "execution_count": 13,
   "metadata": {},
   "outputs": [
    {
     "data": {
      "text/plain": [
       "101    3000\n",
       "Name: submit, dtype: int64"
      ]
     },
     "execution_count": 13,
     "metadata": {},
     "output_type": "execute_result"
    }
   ],
   "source": [
    "dev['submit'] = dev['id'] + ' ' + dev['recommend']\n",
    "dev['submit'].apply(lambda x: len(x.split(' '))).value_counts()"
   ]
  },
  {
   "cell_type": "code",
   "execution_count": 14,
   "metadata": {},
   "outputs": [],
   "source": [
    "dev['submit'].to_csv('data/inferencefile/mf_test2.csv', index=False)"
   ]
  },
  {
   "cell_type": "code",
   "execution_count": null,
   "metadata": {},
   "outputs": [],
   "source": []
  }
 ],
 "metadata": {
  "kernelspec": {
   "display_name": "Python 3",
   "language": "python",
   "name": "python3"
  },
  "language_info": {
   "codemirror_mode": {
    "name": "ipython",
    "version": 3
   },
   "file_extension": ".py",
   "mimetype": "text/x-python",
   "name": "python",
   "nbconvert_exporter": "python",
   "pygments_lexer": "ipython3",
   "version": "3.7.0"
  },
  "widgets": {
   "application/vnd.jupyter.widget-state+json": {
    "state": {
     "04aa6e1848d24cdca8f3c5acaffcfb8a": {
      "model_module": "@jupyter-widgets/controls",
      "model_module_version": "1.4.0",
      "model_name": "ProgressStyleModel",
      "state": {
       "_model_module": "@jupyter-widgets/controls",
       "_model_module_version": "1.4.0",
       "_model_name": "ProgressStyleModel",
       "_view_count": null,
       "_view_module": "@jupyter-widgets/base",
       "_view_module_version": "1.1.0",
       "_view_name": "StyleView",
       "bar_color": null,
       "description_width": ""
      }
     },
     "05ee06c7118e4682819eef74cffa7717": {
      "model_module": "@jupyter-widgets/controls",
      "model_module_version": "1.4.0",
      "model_name": "IntProgressModel",
      "state": {
       "_dom_classes": [],
       "_model_module": "@jupyter-widgets/controls",
       "_model_module_version": "1.4.0",
       "_model_name": "IntProgressModel",
       "_view_count": null,
       "_view_module": "@jupyter-widgets/controls",
       "_view_module_version": "1.4.0",
       "_view_name": "ProgressView",
       "bar_style": "success",
       "description": "",
       "description_tooltip": null,
       "layout": "IPY_MODEL_b356d458f1874d73869afb7981cc1431",
       "max": 3000,
       "min": 0,
       "orientation": "horizontal",
       "style": "IPY_MODEL_04aa6e1848d24cdca8f3c5acaffcfb8a",
       "value": 3000
      }
     },
     "1067c5ed59a04bb0bdd1b12ab84367f9": {
      "model_module": "@jupyter-widgets/base",
      "model_module_version": "1.1.0",
      "model_name": "LayoutModel",
      "state": {
       "_model_module": "@jupyter-widgets/base",
       "_model_module_version": "1.1.0",
       "_model_name": "LayoutModel",
       "_view_count": null,
       "_view_module": "@jupyter-widgets/base",
       "_view_module_version": "1.1.0",
       "_view_name": "LayoutView",
       "align_content": null,
       "align_items": null,
       "align_self": null,
       "border": null,
       "bottom": null,
       "display": null,
       "flex": null,
       "flex_flow": null,
       "grid_area": null,
       "grid_auto_columns": null,
       "grid_auto_flow": null,
       "grid_auto_rows": null,
       "grid_column": null,
       "grid_gap": null,
       "grid_row": null,
       "grid_template_areas": null,
       "grid_template_columns": null,
       "grid_template_rows": null,
       "height": null,
       "justify_content": null,
       "left": null,
       "margin": null,
       "max_height": null,
       "max_width": null,
       "min_height": null,
       "min_width": null,
       "order": null,
       "overflow": null,
       "overflow_x": null,
       "overflow_y": null,
       "padding": null,
       "right": null,
       "top": null,
       "visibility": null,
       "width": null
      }
     },
     "3a93d3d1782d49a5ae5cf7dca81c2d73": {
      "model_module": "@jupyter-widgets/controls",
      "model_module_version": "1.4.0",
      "model_name": "HTMLModel",
      "state": {
       "_dom_classes": [],
       "_model_module": "@jupyter-widgets/controls",
       "_model_module_version": "1.4.0",
       "_model_name": "HTMLModel",
       "_view_count": null,
       "_view_module": "@jupyter-widgets/controls",
       "_view_module_version": "1.4.0",
       "_view_name": "HTMLView",
       "description": "",
       "description_tooltip": null,
       "layout": "IPY_MODEL_1067c5ed59a04bb0bdd1b12ab84367f9",
       "placeholder": "​",
       "style": "IPY_MODEL_59ac51c54148485393a5ee70a4bf4d02",
       "value": "100% 3000/3000 [2:58:38&lt;00:00,  2.76s/it]"
      }
     },
     "59ac51c54148485393a5ee70a4bf4d02": {
      "model_module": "@jupyter-widgets/controls",
      "model_module_version": "1.4.0",
      "model_name": "DescriptionStyleModel",
      "state": {
       "_model_module": "@jupyter-widgets/controls",
       "_model_module_version": "1.4.0",
       "_model_name": "DescriptionStyleModel",
       "_view_count": null,
       "_view_module": "@jupyter-widgets/base",
       "_view_module_version": "1.1.0",
       "_view_name": "StyleView",
       "description_width": ""
      }
     },
     "b356d458f1874d73869afb7981cc1431": {
      "model_module": "@jupyter-widgets/base",
      "model_module_version": "1.1.0",
      "model_name": "LayoutModel",
      "state": {
       "_model_module": "@jupyter-widgets/base",
       "_model_module_version": "1.1.0",
       "_model_name": "LayoutModel",
       "_view_count": null,
       "_view_module": "@jupyter-widgets/base",
       "_view_module_version": "1.1.0",
       "_view_name": "LayoutView",
       "align_content": null,
       "align_items": null,
       "align_self": null,
       "border": null,
       "bottom": null,
       "display": null,
       "flex": null,
       "flex_flow": null,
       "grid_area": null,
       "grid_auto_columns": null,
       "grid_auto_flow": null,
       "grid_auto_rows": null,
       "grid_column": null,
       "grid_gap": null,
       "grid_row": null,
       "grid_template_areas": null,
       "grid_template_columns": null,
       "grid_template_rows": null,
       "height": null,
       "justify_content": null,
       "left": null,
       "margin": null,
       "max_height": null,
       "max_width": null,
       "min_height": null,
       "min_width": null,
       "order": null,
       "overflow": null,
       "overflow_x": null,
       "overflow_y": null,
       "padding": null,
       "right": null,
       "top": null,
       "visibility": null,
       "width": null
      }
     },
     "e926a079db524f28a6cab1694a29bc59": {
      "model_module": "@jupyter-widgets/controls",
      "model_module_version": "1.4.0",
      "model_name": "HBoxModel",
      "state": {
       "_dom_classes": [],
       "_model_module": "@jupyter-widgets/controls",
       "_model_module_version": "1.4.0",
       "_model_name": "HBoxModel",
       "_view_count": null,
       "_view_module": "@jupyter-widgets/controls",
       "_view_module_version": "1.4.0",
       "_view_name": "HBoxView",
       "box_style": "",
       "children": [
        "IPY_MODEL_05ee06c7118e4682819eef74cffa7717",
        "IPY_MODEL_3a93d3d1782d49a5ae5cf7dca81c2d73"
       ],
       "layout": "IPY_MODEL_eaad61435af240338f96e5dcbe6d6c67"
      }
     },
     "eaad61435af240338f96e5dcbe6d6c67": {
      "model_module": "@jupyter-widgets/base",
      "model_module_version": "1.1.0",
      "model_name": "LayoutModel",
      "state": {
       "_model_module": "@jupyter-widgets/base",
       "_model_module_version": "1.1.0",
       "_model_name": "LayoutModel",
       "_view_count": null,
       "_view_module": "@jupyter-widgets/base",
       "_view_module_version": "1.1.0",
       "_view_name": "LayoutView",
       "align_content": null,
       "align_items": null,
       "align_self": null,
       "border": null,
       "bottom": null,
       "display": null,
       "flex": null,
       "flex_flow": null,
       "grid_area": null,
       "grid_auto_columns": null,
       "grid_auto_flow": null,
       "grid_auto_rows": null,
       "grid_column": null,
       "grid_gap": null,
       "grid_row": null,
       "grid_template_areas": null,
       "grid_template_columns": null,
       "grid_template_rows": null,
       "height": null,
       "justify_content": null,
       "left": null,
       "margin": null,
       "max_height": null,
       "max_width": null,
       "min_height": null,
       "min_width": null,
       "order": null,
       "overflow": null,
       "overflow_x": null,
       "overflow_y": null,
       "padding": null,
       "right": null,
       "top": null,
       "visibility": null,
       "width": null
      }
     }
    },
    "version_major": 2,
    "version_minor": 0
   }
  }
 },
 "nbformat": 4,
 "nbformat_minor": 1
}
