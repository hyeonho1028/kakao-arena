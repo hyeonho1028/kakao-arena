{
 "cells": [
  {
   "cell_type": "code",
   "execution_count": 1,
   "metadata": {},
   "outputs": [],
   "source": [
    "import pandas as pd\n",
    "import numpy as np\n",
    "import os"
   ]
  },
  {
   "cell_type": "code",
   "execution_count": 2,
   "metadata": {},
   "outputs": [],
   "source": [
    "metadata = pd.read_csv('metadata.csv')\n",
    "metadata = metadata[metadata['time']>=20181201]\n",
    "\n",
    "mf47 = pd.read_csv('recommend_mf48.csv', header=None)\n",
    "month3 = pd.read_csv('recommend_3month.csv', header=None)\n",
    "follow = pd.read_csv('recommend_follow57.csv', header=None)\n",
    "wr = pd.read_csv('recommend_wr.csv', header=None)\n",
    "\n",
    "coldstarter = pd.read_csv('cold_starter_id.csv')"
   ]
  },
  {
   "cell_type": "code",
   "execution_count": 3,
   "metadata": {},
   "outputs": [],
   "source": [
    "def cleaning(rec):\n",
    "    rec['id'] = rec[0].apply(lambda x: str(x).split(' ')[0])\n",
    "    rec['recommend'] = rec[0].apply(lambda x: str(x).split(' ')[1:])\n",
    "    return rec.iloc[:, 1:]"
   ]
  },
  {
   "cell_type": "code",
   "execution_count": 4,
   "metadata": {},
   "outputs": [],
   "source": [
    "mf47 = cleaning(mf47)\n",
    "month3 = cleaning(month3)\n",
    "follow = cleaning(follow)\n",
    "wr = cleaning(wr)"
   ]
  },
  {
   "cell_type": "code",
   "execution_count": null,
   "metadata": {},
   "outputs": [],
   "source": [
    "%%time\n",
    "mf47['submit']=''\n",
    "for idx in range(len(mf47)):\n",
    "    \n",
    "    a = month3.loc[idx, 'recommend']\n",
    "    b = mf47.loc[idx, 'recommend'][:20]\n",
    "    c = follow.loc[idx, 'recommend']\n",
    "    d = wr.loc[idx, 'recommend'][:20]\n",
    "\n",
    "    recommend_list = []\n",
    "    recommend_list.extend([a[0]])\n",
    "    a = a[1:]\n",
    "\n",
    "    while True:\n",
    "        try:\n",
    "            recommend_list.extend(c[:2])\n",
    "            c = c[2:]\n",
    "            recommend_list.extend(b[:2])\n",
    "            b = b[2:]\n",
    "        except:\n",
    "            pass\n",
    "        if len(c)+len(b)==0:\n",
    "            break\n",
    "            \n",
    "    recommend_list = pd.Series(recommend_list).unique().tolist()\n",
    "    \n",
    "    recommend_list3 = []\n",
    "    while True:\n",
    "        try:\n",
    "            recommend_list3.extend(recommend_list[:2])\n",
    "            recommend_list = recommend_list[2:]\n",
    "            recommend_list3.extend(d[:2])\n",
    "            d = d[2:]\n",
    "        except:\n",
    "            pass\n",
    "        if len(recommend_list)+len(d)==0:\n",
    "            break\n",
    "            \n",
    "    recommend_list = pd.Series(recommend_list3).unique().tolist()\n",
    "\n",
    "    recommend_list2 = []\n",
    "    while True:\n",
    "        try:\n",
    "            recommend_list2.extend(recommend_list[:2])\n",
    "            recommend_list = recommend_list[2:]\n",
    "            recommend_list2.extend(a[:2])\n",
    "            a = a[2:]\n",
    "        except:\n",
    "            pass\n",
    "        if len(recommend_list2)>=100:\n",
    "            break\n",
    "    \n",
    "    recommend_list2 = pd.Series(recommend_list2).unique().tolist()[:80]\n",
    "    mf47.loc[idx, 'submit'] = recommend_list2"
   ]
  },
  {
   "cell_type": "code",
   "execution_count": null,
   "metadata": {},
   "outputs": [],
   "source": [
    "rec_list = np.unique([j for i in mf47['submit'] for j in i])\n",
    "rec_list_market = metadata['id'][~metadata['id'].isin(rec_list)].unique()"
   ]
  },
  {
   "cell_type": "code",
   "execution_count": null,
   "metadata": {},
   "outputs": [],
   "source": [
    "random.seed(42)\n",
    "random.shuffle(rec_list_market)\n",
    "for idx in range(len(mf47)):\n",
    "    recommend_list = mf47.loc[idx, 'submit']\n",
    "    recommend_list.extend(rec_list_market[:20].tolist())\n",
    "    rec_list_market = rec_list_market[20:]\n",
    "    mf47.loc[idx, 'submit'] = recommend_list"
   ]
  },
  {
   "cell_type": "code",
   "execution_count": null,
   "metadata": {},
   "outputs": [],
   "source": [
    "dev = mf47\n",
    "dev = dev.drop(columns=['recommend']).rename(columns={'submit':'recommend'})\n",
    "dev['submit'] = dev['id'] + ' ' + dev['recommend'].apply(lambda x: ' '.join(x))\n",
    "dev['submit'].to_csv('recommend.csv', index=False)\n",
    "print('100개가 완벽히 추천된 아이템 개수 : {} \\n추천된 item의 unique개수 : {} - entropy와 밀접한 관련'.format(\n",
    "    sum(dev['submit'].apply(lambda x: len(x.split(' ')))==101), len(np.unique([j for i in dev['recommend'] for j in i]))))"
   ]
  },
  {
   "cell_type": "code",
   "execution_count": null,
   "metadata": {},
   "outputs": [],
   "source": []
  },
  {
   "cell_type": "code",
   "execution_count": null,
   "metadata": {},
   "outputs": [],
   "source": []
  },
  {
   "cell_type": "code",
   "execution_count": null,
   "metadata": {},
   "outputs": [],
   "source": []
  }
 ],
 "metadata": {
  "kernelspec": {
   "display_name": "Python 3",
   "language": "python",
   "name": "python3"
  },
  "language_info": {
   "codemirror_mode": {
    "name": "ipython",
    "version": 3
   },
   "file_extension": ".py",
   "mimetype": "text/x-python",
   "name": "python",
   "nbconvert_exporter": "python",
   "pygments_lexer": "ipython3",
   "version": "3.7.0"
  }
 },
 "nbformat": 4,
 "nbformat_minor": 2
}
